{
 "cells": [
  {
   "cell_type": "code",
   "execution_count": 1,
   "id": "6387c405-5f00-4630-af6d-12fde3d84363",
   "metadata": {
    "execution": {
     "iopub.execute_input": "2024-06-20T12:48:45.144375Z",
     "iopub.status.busy": "2024-06-20T12:48:45.143985Z",
     "iopub.status.idle": "2024-06-20T12:48:45.214329Z",
     "shell.execute_reply": "2024-06-20T12:48:45.213302Z",
     "shell.execute_reply.started": "2024-06-20T12:48:45.144331Z"
    }
   },
   "outputs": [],
   "source": [
    "import anywidget\n",
    "import traitlets\n",
    "\n",
    "class CardsWidget(anywidget.AnyWidget):\n",
    "    _esm = \"draw.js\"\n",
    "    _css = \"style.css\"\n",
    "    def click(self):\n",
    "        self.send({\"type\": \"click\"})\n",
    "    value = traitlets.Int(13).tag(sync=True)"
   ]
  },
  {
   "cell_type": "code",
   "execution_count": 2,
   "id": "43b54c7d-36c2-40d1-ba8f-1f5adf0862b2",
   "metadata": {
    "execution": {
     "iopub.execute_input": "2024-06-20T12:48:54.521239Z",
     "iopub.status.busy": "2024-06-20T12:48:54.520732Z",
     "iopub.status.idle": "2024-06-20T12:48:54.539431Z",
     "shell.execute_reply": "2024-06-20T12:48:54.538418Z",
     "shell.execute_reply.started": "2024-06-20T12:48:54.521188Z"
    }
   },
   "outputs": [
    {
     "data": {
      "application/vnd.jupyter.widget-view+json": {
       "model_id": "6c8fbc06d6594d04951bf939faa6277e",
       "version_major": 2,
       "version_minor": 1
      },
      "text/plain": [
       "CardsWidget()"
      ]
     },
     "execution_count": 2,
     "metadata": {},
     "output_type": "execute_result"
    }
   ],
   "source": [
    "w = CardsWidget()\n",
    "w"
   ]
  },
  {
   "cell_type": "code",
   "execution_count": null,
   "id": "7c712fd0-ddd5-4822-ab6d-7b6590cf6011",
   "metadata": {},
   "outputs": [],
   "source": []
  }
 ],
 "metadata": {
  "kernelspec": {
   "display_name": "Python 3 (ipykernel)",
   "language": "python",
   "name": "python3"
  },
  "language_info": {
   "codemirror_mode": {
    "name": "ipython",
    "version": 3
   },
   "file_extension": ".py",
   "mimetype": "text/x-python",
   "name": "python",
   "nbconvert_exporter": "python",
   "pygments_lexer": "ipython3",
   "version": "3.10.12"
  }
 },
 "nbformat": 4,
 "nbformat_minor": 5
}
